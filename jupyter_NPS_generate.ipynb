{
 "cells": [
  {
   "cell_type": "code",
   "execution_count": null,
   "metadata": {},
   "outputs": [],
   "source": [
    "#!/usr/bin/env python\n",
    "\"\"\" generate random particles for rendering with blender script blend_powder.py \"\"\"\n",
    "# Brian DeCost -- Carnegie Mellon University -- 2016\n",
    "\n",
    "import sys\n",
    "import json\n",
    "import click\n",
    "import numpy as np\n",
    "from scipy.stats import weibull_min\n",
    "from datetime import datetime\n",
    "import os\n",
    "from tqdm import tqdm\n",
    "\n",
    "def fit_weibull_dist(loc=1, shape=0.1, nsamples=1e5):\n",
    "    \"\"\" fit a weibull distribution to a given lognormal distribution \"\"\"\n",
    "    # get samples from lognormal distribution\n",
    "    loc = np.log(loc)\n",
    "    samples = np.random.lognormal(mean=loc, sigma=shape, size=nsamples)\n",
    "    weibull_params = weibull_min.fit(samples)\n",
    "    return weibull_min(*weibull_params)\n",
    "\n",
    "\n",
    "def generate_sample(samplesize, textfile, distribution, loc, shape):\n",
    "    \"\"\" sample particle sizes from a distribution and make a json file \"\"\"\n",
    "\n",
    "    # sample particle  sizes from a specified generating distribution\n",
    "    if distribution == 'lognormal':\n",
    "        loc = np.log(loc)\n",
    "        size = np.random.lognormal(mean=loc, sigma=shape, size=samplesize)\n",
    "    elif distribution == 'normal':\n",
    "        size = np.random.normal(loc=loc, scale=shape, size=samplesize)\n",
    "        size=np.abs(size)\n",
    "    elif distribution == 'weibull_fit':\n",
    "        # fit a weibull distribution to a lognormal distribution\n",
    "        nsamples = 1e5\n",
    "        dist = fit_weibull_dist(loc=loc, shape=shape, nsamples=nsamples)\n",
    "        size = dist.rvs(size=samplesize)\n",
    "    else:\n",
    "        sys.exit('error: choose between normal and lognormal distributions')\n",
    "\n",
    "    # particle positions from uniform distribution\n",
    "    xx = np.random.uniform(low=0, high=1, size=samplesize)\n",
    "    yy = np.random.uniform(low=0, high=1, size=samplesize)\n",
    "    zz = np.random.uniform(low=0, high=1, size=samplesize)\n",
    "\n",
    "    # serialize everything to json for the blender script\n",
    "    particles = []\n",
    "    for s, x, y, z in zip(size, xx, yy, zz):\n",
    "        particles.append({'size': s, 'x': x, 'y': y, 'z': z})\n",
    "\n",
    "    data = {\n",
    "        'distribution': distribution,\n",
    "        'loc': loc,\n",
    "        'shape': shape,\n",
    "        'timestamp': datetime.utcnow().isoformat(),\n",
    "        'particles': particles\n",
    "    }\n",
    "    curpath = os.path.abspath(os.curdir)\n",
    "    packet_file = \"%s/%s/%s/%s.mol2\" % (\"dir\", \"dir2\", \"dir3\", \"some_file\")\n",
    "    with open(textfile, 'w') as f:\n",
    "        json.dump(data, f)\n"
   ]
  },
  {
   "cell_type": "code",
   "execution_count": null,
   "metadata": {},
   "outputs": [],
   "source": [
    "for i in tqdm(range(3000)):\n",
    "    generate_sample(int(np.random.rand()*300),'particles\\particles{}.json'.format(i),np.random.choice(['lognormal','normal']),np.random.rand()/2,np.random.rand())"
   ]
  },
  {
   "cell_type": "code",
   "execution_count": null,
   "metadata": {},
   "outputs": [],
   "source": [
    "import cv2\n",
    "from matplotlib.pyplot import imshow"
   ]
  },
  {
   "cell_type": "code",
   "execution_count": null,
   "metadata": {},
   "outputs": [],
   "source": [
    "#os.listdir('textures')"
   ]
  },
  {
   "cell_type": "code",
   "execution_count": null,
   "metadata": {},
   "outputs": [],
   "source": [
    "texturefiles=[]\n",
    "textpath='textures'\n",
    "for textfile in os.listdir(textpath):\n",
    "    if textfile[-4:]=='.jpg':\n",
    "        texturefiles.append(textpath+'\\\\'+ textfile)"
   ]
  },
  {
   "cell_type": "code",
   "execution_count": null,
   "metadata": {},
   "outputs": [],
   "source": [
    "for path in texturefiles:\n",
    "    img=cv2.imread(path)\n",
    "    crop_img = img[:125, :]\n",
    "    newpath=\"\\\\\".join(path.split('\\\\')[:-1])+'\\\\newtext\\\\'+path.split('\\\\')[-1]\n",
    "    if os.path.isfile(newpath)==False:\n",
    "        cv2.imwrite(newpath, crop_img)"
   ]
  },
  {
   "cell_type": "code",
   "execution_count": null,
   "metadata": {},
   "outputs": [],
   "source": [
    "#cv2.imshow(\"cropped\", crop_img)"
   ]
  },
  {
   "cell_type": "code",
   "execution_count": null,
   "metadata": {},
   "outputs": [],
   "source": [
    "#imshow(img)"
   ]
  },
  {
   "cell_type": "code",
   "execution_count": null,
   "metadata": {},
   "outputs": [],
   "source": [
    "#imshow(crop_img)"
   ]
  },
  {
   "cell_type": "code",
   "execution_count": 1,
   "metadata": {},
   "outputs": [],
   "source": [
    "import keras_retinanet\n",
    "from keras_retinanet import models as mdls\n",
    "from keras_retinanet.models import load_model\n",
    "import numpy as np\n",
    "import tensorflow as tf\n",
    "import tf_retinanet\n",
    "#from tf_retinanet.models import load_model\n",
    "\n",
    "#import tf_retinanet.backbone"
   ]
  },
  {
   "cell_type": "code",
   "execution_count": 2,
   "metadata": {},
   "outputs": [
    {
     "data": {
      "text/plain": [
       "'2.3.0'"
      ]
     },
     "execution_count": 2,
     "metadata": {},
     "output_type": "execute_result"
    }
   ],
   "source": [
    "tf.__version__"
   ]
  },
  {
   "cell_type": "code",
   "execution_count": null,
   "metadata": {},
   "outputs": [],
   "source": []
  },
  {
   "cell_type": "code",
   "execution_count": null,
   "metadata": {},
   "outputs": [],
   "source": [
    "model = load_model('infermodelEQOnly_BS4.05-1.1397-1.3918h5')#,backbone='resnet50',submodels=[])"
   ]
  },
  {
   "cell_type": "code",
   "execution_count": null,
   "metadata": {},
   "outputs": [],
   "source": [
    "tf.keras.models.load_model('infermodelEQOnly_BS4.05-1.1397-1.3918h5')"
   ]
  },
  {
   "cell_type": "code",
   "execution_count": null,
   "metadata": {},
   "outputs": [],
   "source": [
    "model=mdls.load_model('infermodelEQOnly_BS4.05-1.1397-1.3918h5')"
   ]
  }
 ],
 "metadata": {
  "kernelspec": {
   "display_name": "Python 3",
   "language": "python",
   "name": "python3"
  },
  "language_info": {
   "codemirror_mode": {
    "name": "ipython",
    "version": 3
   },
   "file_extension": ".py",
   "mimetype": "text/x-python",
   "name": "python",
   "nbconvert_exporter": "python",
   "pygments_lexer": "ipython3",
   "version": "3.7.6"
  }
 },
 "nbformat": 4,
 "nbformat_minor": 2
}
